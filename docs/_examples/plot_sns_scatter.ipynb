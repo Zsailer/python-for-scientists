{
  "cells": [
    {
      "cell_type": "code",
      "execution_count": null,
      "metadata": {
        "collapsed": false
      },
      "outputs": [],
      "source": [
        "%matplotlib inline"
      ]
    },
    {
      "cell_type": "markdown",
      "metadata": {},
      "source": [
        "\nScatter Chart\n=============\n\nExample scatter chart\n\n"
      ]
    },
    {
      "cell_type": "code",
      "execution_count": null,
      "metadata": {
        "collapsed": false
      },
      "outputs": [],
      "source": [
        "import matplotlib.pyplot as plt\nimport seaborn as sns\n\nsns.set()\n\n# Initialize a figure and axes object\nfig, ax = plt.subplots(figsize=(3,3))\n\n# Data\nx = [0, 1, 2, 3, 4, 5, 6]\ny = [3, 7, 2, 4, 6, 0, 2]\n\n# Add data and scatter points onto axes\nax.scatter(x, y)\n\n# Name axes\nax.set_xlabel('x')\nax.set_ylabel('y')\n\n# Show figure.\nfig.show()"
      ]
    }
  ],
  "metadata": {
    "kernelspec": {
      "display_name": "Python 3",
      "language": "python",
      "name": "python3"
    },
    "language_info": {
      "codemirror_mode": {
        "name": "ipython",
        "version": 3
      },
      "file_extension": ".py",
      "mimetype": "text/x-python",
      "name": "python",
      "nbconvert_exporter": "python",
      "pygments_lexer": "ipython3",
      "version": "3.6.3"
    }
  },
  "nbformat": 4,
  "nbformat_minor": 0
}