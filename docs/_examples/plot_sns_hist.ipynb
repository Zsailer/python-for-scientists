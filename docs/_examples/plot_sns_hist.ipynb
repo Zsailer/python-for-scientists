{
  "cells": [
    {
      "cell_type": "code",
      "execution_count": null,
      "metadata": {
        "collapsed": false
      },
      "outputs": [],
      "source": [
        "%matplotlib inline"
      ]
    },
    {
      "cell_type": "markdown",
      "metadata": {},
      "source": [
        "\nHistogram\n=============\n\nExample histogram\n\n"
      ]
    },
    {
      "cell_type": "code",
      "execution_count": null,
      "metadata": {
        "collapsed": false
      },
      "outputs": [],
      "source": [
        "import matplotlib.pyplot as plt\nimport seaborn as sns\nimport numpy as np\n\nsns.set()\n\n\n# Initialize a figure and axes object\nfig, ax = plt.subplots(figsize=(3,3))\n\n# Data\nx = np.random.normal(0, 0.1, 1000)\n\n# Add data a scatter points onto axes\nax.hist(x)\n\n# Name axes\nax.set_xlabel('x')\n\n# Show figure.\nfig.show()"
      ]
    }
  ],
  "metadata": {
    "kernelspec": {
      "display_name": "Python 3",
      "language": "python",
      "name": "python3"
    },
    "language_info": {
      "codemirror_mode": {
        "name": "ipython",
        "version": 3
      },
      "file_extension": ".py",
      "mimetype": "text/x-python",
      "name": "python",
      "nbconvert_exporter": "python",
      "pygments_lexer": "ipython3",
      "version": "3.6.3"
    }
  },
  "nbformat": 4,
  "nbformat_minor": 0
}